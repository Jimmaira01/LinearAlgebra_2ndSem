{
  "cells": [
    {
      "cell_type": "markdown",
      "metadata": {
        "id": "view-in-github",
        "colab_type": "text"
      },
      "source": [
        "<a href=\"https://colab.research.google.com/github/Jimmaira01/LinearAlgebra_2ndSem/blob/main/Assignment_5_Matrix_Operations_in_Python.ipynb\" target=\"_parent\"><img src=\"https://colab.research.google.com/assets/colab-badge.svg\" alt=\"Open In Colab\"/></a>"
      ]
    },
    {
      "cell_type": "markdown",
      "metadata": {
        "id": "nCTV8bbdmTPe"
      },
      "source": [
        "# Linear Algebra for CHE\n",
        "## Laboratory 6 : Matrix Operations"
      ]
    },
    {
      "cell_type": "markdown",
      "metadata": {
        "id": "qHhxz9m0mVcD"
      },
      "source": [
        "## Discussion"
      ]
    },
    {
      "cell_type": "code",
      "execution_count": 14,
      "metadata": {
        "id": "q383gZIjma8B"
      },
      "outputs": [],
      "source": [
        "import numpy as np\n",
        "import matplotlib.pyplot as plt\n",
        "%matplotlib inline"
      ]
    },
    {
      "cell_type": "markdown",
      "metadata": {
        "id": "_5GR4FW4o4Yg"
      },
      "source": [
        "## Transposition\n"
      ]
    },
    {
      "cell_type": "markdown",
      "metadata": {
        "id": "DQh2LFDQpMtG"
      },
      "source": [
        "In linear algebra, the transpose of a matrix is an operator which flips a matrix over its diagonal; that is, it switches the row and column indices of the matrix A by producing another matrix, often denoted by AT (among other notations)."
      ]
    },
    {
      "cell_type": "markdown",
      "metadata": {
        "id": "xsIiJBLApQCr"
      },
      "source": [
        "$$A = \\begin{bmatrix} 1 & 2 & 5\\\\5 & -1 &0 \\\\ 0 & -3 & 3\\end{bmatrix} $$"
      ]
    },
    {
      "cell_type": "markdown",
      "metadata": {
        "id": "419SeM5upTpf"
      },
      "source": [
        "$$ A^T = \\begin{bmatrix} 1 & 5 & 0\\\\2 & -1 &-3 \\\\ 5 & 0 & 3\\end{bmatrix}$$"
      ]
    },
    {
      "cell_type": "markdown",
      "metadata": {
        "id": "ORFcogPppXIX"
      },
      "source": [
        "This can now be achieved programmatically by using `np.transpose()` or using the `T` method."
      ]
    },
    {
      "cell_type": "code",
      "execution_count": 15,
      "metadata": {
        "colab": {
          "base_uri": "https://localhost:8080/"
        },
        "id": "t4J_ANmZpZYY",
        "outputId": "a0adf646-18bf-4f68-b164-57dcd77d9044"
      },
      "outputs": [
        {
          "output_type": "execute_result",
          "data": {
            "text/plain": [
              "array([[ 1,  2,  5],\n",
              "       [ 5, -1,  0],\n",
              "       [ 0, -3,  3]])"
            ]
          },
          "metadata": {},
          "execution_count": 15
        }
      ],
      "source": [
        "A = np.array([\n",
        "    [1 ,2, 5],\n",
        "    [5, -1, 0],\n",
        "    [0, -3, 3]\n",
        "])\n",
        "A"
      ]
    },
    {
      "cell_type": "code",
      "execution_count": 16,
      "metadata": {
        "colab": {
          "base_uri": "https://localhost:8080/"
        },
        "id": "OZKSRTx4pcJk",
        "outputId": "fafc7475-a62f-4c0b-d5b4-bed603e69224"
      },
      "outputs": [
        {
          "output_type": "execute_result",
          "data": {
            "text/plain": [
              "array([[ 1,  5,  0],\n",
              "       [ 2, -1, -3],\n",
              "       [ 5,  0,  3]])"
            ]
          },
          "metadata": {},
          "execution_count": 16
        }
      ],
      "source": [
        "AT1 = np.transpose(A)\n",
        "AT1"
      ]
    },
    {
      "cell_type": "code",
      "execution_count": 18,
      "metadata": {
        "colab": {
          "base_uri": "https://localhost:8080/"
        },
        "id": "SELWM3Ztpeym",
        "outputId": "9785646e-e7b3-4080-c244-f5e2cbec1e83"
      },
      "outputs": [
        {
          "output_type": "execute_result",
          "data": {
            "text/plain": [
              "array([[ 1,  5,  0],\n",
              "       [ 2, -1, -3],\n",
              "       [ 5,  0,  3]])"
            ]
          },
          "metadata": {},
          "execution_count": 18
        }
      ],
      "source": [
        "AT2 = A.T\n",
        "AT2"
      ]
    },
    {
      "cell_type": "code",
      "execution_count": 19,
      "metadata": {
        "colab": {
          "base_uri": "https://localhost:8080/"
        },
        "id": "Nu2yLGA-pi71",
        "outputId": "39ee6304-1a8a-4a12-a3b9-d2c80c80cc52"
      },
      "outputs": [
        {
          "output_type": "execute_result",
          "data": {
            "text/plain": [
              "True"
            ]
          },
          "metadata": {},
          "execution_count": 19
        }
      ],
      "source": [
        "np.array_equiv(AT1, AT2)"
      ]
    },
    {
      "cell_type": "code",
      "execution_count": 20,
      "metadata": {
        "colab": {
          "base_uri": "https://localhost:8080/"
        },
        "id": "p5nqhmitpk-2",
        "outputId": "946cede1-e069-4eb4-bb9e-46d42f67f712"
      },
      "outputs": [
        {
          "output_type": "execute_result",
          "data": {
            "text/plain": [
              "(2, 4)"
            ]
          },
          "metadata": {},
          "execution_count": 20
        }
      ],
      "source": [
        "B = np.array([\n",
        "    [1,2,3,4],\n",
        "    [1,0,2,1],\n",
        "])\n",
        "B.shape"
      ]
    },
    {
      "cell_type": "code",
      "execution_count": 21,
      "metadata": {
        "colab": {
          "base_uri": "https://localhost:8080/"
        },
        "id": "kzkeNgvPpm5I",
        "outputId": "ad79edee-cfb9-4d99-c2e9-83f637f9a3d9"
      },
      "outputs": [
        {
          "output_type": "execute_result",
          "data": {
            "text/plain": [
              "(4, 2)"
            ]
          },
          "metadata": {},
          "execution_count": 21
        }
      ],
      "source": [
        "np.transpose(B).shape"
      ]
    },
    {
      "cell_type": "code",
      "execution_count": 22,
      "metadata": {
        "colab": {
          "base_uri": "https://localhost:8080/"
        },
        "id": "FrG7wRDMpo1Q",
        "outputId": "6f1502f0-edd7-42d4-ec33-346edb129c5f"
      },
      "outputs": [
        {
          "output_type": "execute_result",
          "data": {
            "text/plain": [
              "(4, 2)"
            ]
          },
          "metadata": {},
          "execution_count": 22
        }
      ],
      "source": [
        "B.T.shape"
      ]
    },
    {
      "cell_type": "markdown",
      "metadata": {
        "id": "NGc98LWMpvYX"
      },
      "source": [
        "Own Matrix to test transposition.\n"
      ]
    },
    {
      "cell_type": "code",
      "execution_count": 23,
      "metadata": {
        "colab": {
          "base_uri": "https://localhost:8080/"
        },
        "id": "jGCEZydEp7a3",
        "outputId": "a973952c-c2d8-4883-ae1f-aa7270232b4e"
      },
      "outputs": [
        {
          "output_type": "execute_result",
          "data": {
            "text/plain": [
              "(4, 3)"
            ]
          },
          "metadata": {},
          "execution_count": 23
        }
      ],
      "source": [
        "Z=np.array([\n",
        "    [4,1,8],\n",
        "    [2,3,0],\n",
        "    [1,8,7],\n",
        "    [0,4,1]       \n",
        "])\n",
        "Z.shape"
      ]
    },
    {
      "cell_type": "code",
      "execution_count": 24,
      "metadata": {
        "colab": {
          "base_uri": "https://localhost:8080/"
        },
        "id": "8v6466O6qTE6",
        "outputId": "788b7609-d8bd-4595-9e55-4e387b27b501"
      },
      "outputs": [
        {
          "output_type": "execute_result",
          "data": {
            "text/plain": [
              "(3, 4)"
            ]
          },
          "metadata": {},
          "execution_count": 24
        }
      ],
      "source": [
        "np.transpose(Z).shape"
      ]
    },
    {
      "cell_type": "code",
      "execution_count": 25,
      "metadata": {
        "colab": {
          "base_uri": "https://localhost:8080/"
        },
        "id": "b_dOI-X7qZe2",
        "outputId": "7e5ad35c-be46-44be-ac78-a8ba8b321ef1"
      },
      "outputs": [
        {
          "output_type": "execute_result",
          "data": {
            "text/plain": [
              "(3, 4)"
            ]
          },
          "metadata": {},
          "execution_count": 25
        }
      ],
      "source": [
        "Z.T.shape"
      ]
    },
    {
      "cell_type": "code",
      "execution_count": 26,
      "metadata": {
        "colab": {
          "base_uri": "https://localhost:8080/"
        },
        "id": "9TddpE1EqcUU",
        "outputId": "ca2c2ecd-8d75-4996-8f18-66cb042e2c94"
      },
      "outputs": [
        {
          "output_type": "execute_result",
          "data": {
            "text/plain": [
              "array([[4, 2, 1, 0],\n",
              "       [1, 3, 8, 4],\n",
              "       [8, 0, 7, 1]])"
            ]
          },
          "metadata": {},
          "execution_count": 26
        }
      ],
      "source": [
        "ZT = Z.T\n",
        "ZT"
      ]
    },
    {
      "cell_type": "markdown",
      "metadata": {
        "id": "FXrZYW5KqgOD"
      },
      "source": [
        "## Dot Product / Inner Product"
      ]
    },
    {
      "cell_type": "markdown",
      "metadata": {
        "id": "xn9taRwVqjKE"
      },
      "source": [
        "If you recall the dot product from laboratory activity before, we will try to implement the same operation with matrices. In matrix dot product we are going to get the sum of products of the vectors by row-column pairs. So if we have two matrices $X$ and $Y$:\n",
        "\n",
        "$$X = \\begin{bmatrix}x_{(0,0)}&x_{(0,1)}\\\\ x_{(1,0)}&x_{(1,1)}\\end{bmatrix}, Y = \\begin{bmatrix}y_{(0,0)}&y_{(0,1)}\\\\ y_{(1,0)}&y_{(1,1)}\\end{bmatrix}$$\n",
        "\n",
        "The dot product will then be computed as:\n",
        "$$X \\cdot Y= \\begin{bmatrix} x_{(0,0)}*y_{(0,0)} + x_{(0,1)}*y_{(1,0)} & x_{(0,0)}*y_{(0,1)} + x_{(0,1)}*y_{(1,1)} \\\\  x_{(1,0)}*y_{(0,0)} + x_{(1,1)}*y_{(1,0)} & x_{(1,0)}*y_{(0,1)} + x_{(1,1)}*y_{(1,1)}\n",
        "\\end{bmatrix}$$\n",
        "\n",
        "So if we assign values to $X$ and $Y$:\n",
        "$$X = \\begin{bmatrix}1&2\\\\ 0&1\\end{bmatrix}, Y = \\begin{bmatrix}-1&0\\\\ 2&2\\end{bmatrix}$$"
      ]
    },
    {
      "cell_type": "markdown",
      "metadata": {
        "id": "PKLWqq6_qlTG"
      },
      "source": [
        "$$X \\cdot Y= \\begin{bmatrix} 1*-1 + 2*2 & 1*0 + 2*2 \\\\  0*-1 + 1*2 & 0*0 + 1*2 \\end{bmatrix} = \\begin{bmatrix} 3 & 4 \\\\2 & 2 \\end{bmatrix}$$\n",
        "This could be achieved programmatically using `np.dot()`, `np.matmul()` or the `@` operator."
      ]
    },
    {
      "cell_type": "code",
      "execution_count": 27,
      "metadata": {
        "id": "2VnfRjrmqn0l"
      },
      "outputs": [],
      "source": [
        "X = np.array([\n",
        "    [1,2],\n",
        "    [0,1]\n",
        "])\n",
        "Y = np.array([\n",
        "    [-1,0],\n",
        "    [2,2]\n",
        "])"
      ]
    },
    {
      "cell_type": "code",
      "execution_count": 28,
      "metadata": {
        "colab": {
          "base_uri": "https://localhost:8080/"
        },
        "id": "irXucWbCqrNF",
        "outputId": "c67ab12e-8b0b-4ec9-94ec-b16b47159ec9"
      },
      "outputs": [
        {
          "output_type": "execute_result",
          "data": {
            "text/plain": [
              "False"
            ]
          },
          "metadata": {},
          "execution_count": 28
        }
      ],
      "source": [
        "np.array_equiv(X, Y)"
      ]
    },
    {
      "cell_type": "code",
      "execution_count": 29,
      "metadata": {
        "colab": {
          "base_uri": "https://localhost:8080/"
        },
        "id": "brjGxOqEqtlR",
        "outputId": "0322e621-7505-4070-bfc6-09d09677dfb0"
      },
      "outputs": [
        {
          "output_type": "execute_result",
          "data": {
            "text/plain": [
              "array([[3, 4],\n",
              "       [2, 2]])"
            ]
          },
          "metadata": {},
          "execution_count": 29
        }
      ],
      "source": [
        "np.dot(X,Y)"
      ]
    },
    {
      "cell_type": "code",
      "execution_count": 30,
      "metadata": {
        "colab": {
          "base_uri": "https://localhost:8080/"
        },
        "id": "xQsnz-ZTqvcN",
        "outputId": "1e73e72b-8d8b-422d-fbc8-00a36f43e3f0"
      },
      "outputs": [
        {
          "output_type": "execute_result",
          "data": {
            "text/plain": [
              "array([[3, 4],\n",
              "       [2, 2]])"
            ]
          },
          "metadata": {},
          "execution_count": 30
        }
      ],
      "source": [
        "X.dot(Y)"
      ]
    },
    {
      "cell_type": "code",
      "execution_count": 31,
      "metadata": {
        "colab": {
          "base_uri": "https://localhost:8080/"
        },
        "id": "U545ItGcqxZl",
        "outputId": "8d6a55ed-f406-4eeb-b9ed-c14a119bda79"
      },
      "outputs": [
        {
          "output_type": "execute_result",
          "data": {
            "text/plain": [
              "array([[3, 4],\n",
              "       [2, 2]])"
            ]
          },
          "metadata": {},
          "execution_count": 31
        }
      ],
      "source": [
        "X @ Y"
      ]
    },
    {
      "cell_type": "code",
      "execution_count": 32,
      "metadata": {
        "colab": {
          "base_uri": "https://localhost:8080/"
        },
        "id": "XzRzcS8jqzJF",
        "outputId": "71771d8d-5923-4f31-e094-38601b69e20b"
      },
      "outputs": [
        {
          "output_type": "execute_result",
          "data": {
            "text/plain": [
              "array([[3, 4],\n",
              "       [2, 2]])"
            ]
          },
          "metadata": {},
          "execution_count": 32
        }
      ],
      "source": [
        "np.matmul(X,Y)"
      ]
    },
    {
      "cell_type": "code",
      "execution_count": 33,
      "metadata": {
        "id": "ABoJwzdkq1H3"
      },
      "outputs": [],
      "source": [
        "D = np.array([\n",
        "    [3,2,2],\n",
        "    [3,1,3],\n",
        "    [5,3,2]\n",
        "])\n",
        "E = np.array([\n",
        "    [-2,0,5],\n",
        "    [2,4,6],\n",
        "    [7,4,3]\n",
        "])"
      ]
    },
    {
      "cell_type": "code",
      "execution_count": 34,
      "metadata": {
        "colab": {
          "base_uri": "https://localhost:8080/"
        },
        "id": "Gq1m6VTDq3Al",
        "outputId": "8c66a8b4-a56d-4f68-d59e-f39bfc14b110"
      },
      "outputs": [
        {
          "output_type": "execute_result",
          "data": {
            "text/plain": [
              "array([[12, 16, 33],\n",
              "       [17, 16, 30],\n",
              "       [10, 20, 49]])"
            ]
          },
          "metadata": {},
          "execution_count": 34
        }
      ],
      "source": [
        "D @ E"
      ]
    },
    {
      "cell_type": "code",
      "execution_count": 35,
      "metadata": {
        "colab": {
          "base_uri": "https://localhost:8080/"
        },
        "id": "kiSvmhyRq5zz",
        "outputId": "17183cbb-f7af-4efe-a30f-db9cb9fd71c8"
      },
      "outputs": [
        {
          "output_type": "execute_result",
          "data": {
            "text/plain": [
              "array([[12, 16, 33],\n",
              "       [17, 16, 30],\n",
              "       [10, 20, 49]])"
            ]
          },
          "metadata": {},
          "execution_count": 35
        }
      ],
      "source": [
        "D.dot(E)"
      ]
    },
    {
      "cell_type": "code",
      "execution_count": 36,
      "metadata": {
        "colab": {
          "base_uri": "https://localhost:8080/"
        },
        "id": "45-HYNk0q7nt",
        "outputId": "5a7d71eb-8703-467a-8913-c31a94ec7bbf"
      },
      "outputs": [
        {
          "output_type": "execute_result",
          "data": {
            "text/plain": [
              "array([[12, 16, 33],\n",
              "       [17, 16, 30],\n",
              "       [10, 20, 49]])"
            ]
          },
          "metadata": {},
          "execution_count": 36
        }
      ],
      "source": [
        "np.matmul(D, E)"
      ]
    },
    {
      "cell_type": "code",
      "execution_count": 37,
      "metadata": {
        "colab": {
          "base_uri": "https://localhost:8080/"
        },
        "id": "HEJD7Ccqq9q2",
        "outputId": "7fe514a6-43af-42b8-d89f-ccf3039de409"
      },
      "outputs": [
        {
          "output_type": "execute_result",
          "data": {
            "text/plain": [
              "array([[12, 16, 33],\n",
              "       [17, 16, 30],\n",
              "       [10, 20, 49]])"
            ]
          },
          "metadata": {},
          "execution_count": 37
        }
      ],
      "source": [
        "np.dot(D, E)"
      ]
    },
    {
      "cell_type": "markdown",
      "metadata": {
        "id": "WG_DwZ2CrBH-"
      },
      "source": [
        "In matrix dot products there are additional rules compared with vector dot products. Since vector dot products were just in one dimension there are less restrictions. Since now we are dealing with Rank 2 vectors we need to consider some rules:\n",
        "\n",
        "### Rule 1: The inner dimensions of the two matrices in question must be the same. \n",
        "\n",
        "So given a matrix $A$ with a shape of $(a,b)$ where $a$ and $b$ are any integers. If we want to do a dot product between $A$ and another matrix $B$, then matrix $B$ should have a shape of $(b,c)$ where $b$ and $c$ are any integers. So for given the following matrices:\n",
        "\n",
        "$$A = \\begin{bmatrix}2&4\\\\5&-2\\\\0&1\\end{bmatrix}, B = \\begin{bmatrix}1&1\\\\3&3\\\\-1&-2\\end{bmatrix}, C = \\begin{bmatrix}0&1&1\\\\1&1&2\\end{bmatrix}$$\n",
        "\n",
        "So in this case $A$ has a shape of $(3,2)$, $B$ has a shape of $(3,2)$ and $C$ has a shape of $(2,3)$. So the only matrix pairs that is eligible to perform dot product is matrices $A \\cdot C$, or $B \\cdot C$.  "
      ]
    },
    {
      "cell_type": "code",
      "execution_count": 38,
      "metadata": {
        "colab": {
          "base_uri": "https://localhost:8080/"
        },
        "id": "DKRoratvrMWZ",
        "outputId": "5a4bf251-bd68-4962-f3a2-96c764b706c8"
      },
      "outputs": [
        {
          "output_type": "stream",
          "name": "stdout",
          "text": [
            "(4, 2)\n",
            "(4, 2)\n",
            "(2, 3)\n"
          ]
        }
      ],
      "source": [
        "A = np.array([\n",
        "    [0, 1],\n",
        "    [9, -3],\n",
        "    [0, 5],\n",
        "    [4, 1]\n",
        "])\n",
        "B = np.array([\n",
        "    [1,1],\n",
        "    [3,3],\n",
        "    [-1,-2],\n",
        "    [0, 1]\n",
        "])\n",
        "C = np.array([\n",
        "    [2,0,1],\n",
        "    [1,1,3]\n",
        "])\n",
        "print(A.shape)\n",
        "print(B.shape)\n",
        "print(C.shape)"
      ]
    },
    {
      "cell_type": "code",
      "execution_count": 45,
      "metadata": {
        "colab": {
          "base_uri": "https://localhost:8080/"
        },
        "id": "iF0EPIq1rn89",
        "outputId": "55663cc6-258c-4ff5-8d4d-5a257f494849"
      },
      "outputs": [
        {
          "output_type": "execute_result",
          "data": {
            "text/plain": [
              "array([[ 1,  1,  3],\n",
              "       [15, -3,  0],\n",
              "       [ 5,  5, 15],\n",
              "       [ 9,  1,  7]])"
            ]
          },
          "metadata": {},
          "execution_count": 45
        }
      ],
      "source": [
        "A @ C"
      ]
    },
    {
      "cell_type": "code",
      "execution_count": 46,
      "metadata": {
        "colab": {
          "base_uri": "https://localhost:8080/"
        },
        "id": "Qd_m4E7brqLu",
        "outputId": "757cc1d4-030e-4951-dff5-04df090a7f2e"
      },
      "outputs": [
        {
          "output_type": "execute_result",
          "data": {
            "text/plain": [
              "array([[ 3,  1,  4],\n",
              "       [ 9,  3, 12],\n",
              "       [-4, -2, -7],\n",
              "       [ 1,  1,  3]])"
            ]
          },
          "metadata": {},
          "execution_count": 46
        }
      ],
      "source": [
        "B @ C"
      ]
    },
    {
      "cell_type": "markdown",
      "metadata": {
        "id": "FR1EtMngru9Q"
      },
      "source": [
        "If it would notice the shape of the dot product changed and its shape is not the same as any of the matrices we used. The shape of a dot product is actually derived from the shapes of the matrices used. So recall matrix $A$ with a shape of $(a,b)$ and matrix $B$ with a shape of $(b,c)$, $A \\cdot B$ should have a shape $(a,c)$."
      ]
    },
    {
      "cell_type": "code",
      "execution_count": 47,
      "metadata": {
        "colab": {
          "base_uri": "https://localhost:8080/"
        },
        "id": "CdHNj_fZr1l5",
        "outputId": "5b2d73f3-f1b9-4fe9-d0eb-5bb1822aa060"
      },
      "outputs": [
        {
          "output_type": "execute_result",
          "data": {
            "text/plain": [
              "array([[  1,   3,  -2,   1],\n",
              "       [  6,  18,  -3,  -3],\n",
              "       [  5,  15, -10,   5],\n",
              "       [  5,  15,  -6,   1]])"
            ]
          },
          "metadata": {},
          "execution_count": 47
        }
      ],
      "source": [
        "A @ B.T"
      ]
    },
    {
      "cell_type": "code",
      "execution_count": 48,
      "metadata": {
        "colab": {
          "base_uri": "https://localhost:8080/"
        },
        "id": "JrI5bIa5r4I4",
        "outputId": "309d43cb-1a7d-4d0e-d9cf-c41f44dd5dbc"
      },
      "outputs": [
        {
          "output_type": "stream",
          "name": "stdout",
          "text": [
            "(1, 4)\n",
            "(1, 4)\n"
          ]
        }
      ],
      "source": [
        "X = np.array([\n",
        "    [1,2,3,0]\n",
        "])\n",
        "Y = np.array([\n",
        "    [1,0,4,-1]\n",
        "])\n",
        "print(X.shape)\n",
        "print(Y.shape)"
      ]
    },
    {
      "cell_type": "code",
      "execution_count": 49,
      "metadata": {
        "colab": {
          "base_uri": "https://localhost:8080/"
        },
        "id": "aTdlGocgr-eA",
        "outputId": "b462aa69-6aa5-47c6-c127-50fff8c3a6f1"
      },
      "outputs": [
        {
          "output_type": "execute_result",
          "data": {
            "text/plain": [
              "array([[ 1,  2,  3,  0],\n",
              "       [ 0,  0,  0,  0],\n",
              "       [ 4,  8, 12,  0],\n",
              "       [-1, -2, -3,  0]])"
            ]
          },
          "metadata": {},
          "execution_count": 49
        }
      ],
      "source": [
        "Y.T @ X"
      ]
    },
    {
      "cell_type": "code",
      "execution_count": 50,
      "metadata": {
        "colab": {
          "base_uri": "https://localhost:8080/"
        },
        "id": "UKfCEzunsAZP",
        "outputId": "15489e9b-6c1e-4866-9616-def081fa7e54"
      },
      "outputs": [
        {
          "output_type": "execute_result",
          "data": {
            "text/plain": [
              "array([[13]])"
            ]
          },
          "metadata": {},
          "execution_count": 50
        }
      ],
      "source": [
        "X @ Y.T"
      ]
    },
    {
      "cell_type": "markdown",
      "metadata": {
        "id": "Z-udBTIjsE21"
      },
      "source": [
        "And it can be determine that when you try to multiply A and B, it returns `ValueError` pertaining to matrix shape mismatch."
      ]
    },
    {
      "cell_type": "markdown",
      "metadata": {
        "id": "urZ1QXY7sLVP"
      },
      "source": [
        "### Rule 2: Dot Product has special properties\n",
        "\n",
        "Dot products are prevalent in matrix algebra, this implies that it has several unique properties and it should be considered when formulation solutions:\n",
        " 1. $A \\cdot B \\neq B \\cdot A$\n",
        " 2. $A \\cdot (B \\cdot C) = (A \\cdot B) \\cdot C$\n",
        " 3. $A\\cdot(B+C) = A\\cdot B + A\\cdot C$\n",
        " 4. $(B+C)\\cdot A = B\\cdot A + C\\cdot A$\n",
        " 5. $A\\cdot I = A$\n",
        " 6. $A\\cdot \\emptyset = \\emptyset$ "
      ]
    },
    {
      "cell_type": "markdown",
      "metadata": {
        "id": "0AkcfNarsiqu"
      },
      "source": [
        "## Determinant"
      ]
    },
    {
      "cell_type": "markdown",
      "metadata": {
        "id": "ApxLFLu5sk0K"
      },
      "source": [
        "A determinant is a scalar value derived from a square matrix. The determinant is a fundamental and important value used in matrix algebra. Although it will not be evident in this laboratory on how it can be used practically, but it will be reatly used in future lessons.\n",
        "\n",
        "The determinant of some matrix $A$ is denoted as $det(A)$ or $|A|$. So let's say $A$ is represented as:\n",
        "$$A = \\begin{bmatrix}a_{(0,0)}&a_{(0,1)}\\\\a_{(1,0)}&a_{(1,1)}\\end{bmatrix}$$\n",
        "We can compute for the determinant as:\n",
        "$$|A| = a_{(0,0)}*a_{(1,1)} - a_{(1,0)}*a_{(0,1)}$$\n",
        "So if we have $A$ as:\n",
        "$$A = \\begin{bmatrix}1&4\\\\0&3\\end{bmatrix}, |A| = 3$$\n",
        "\n",
        "But you might wonder how about square matrices beyond the shape $(2,2)$? We can approach this problem by using several methods such as co-factor expansion and the minors method. This can be taught in the lecture of the laboratory but we can achieve the strenuous computation of high-dimensional matrices programmatically using Python. We can achieve this by using `np.linalg.det()`."
      ]
    },
    {
      "cell_type": "code",
      "execution_count": 51,
      "metadata": {
        "colab": {
          "base_uri": "https://localhost:8080/"
        },
        "id": "BcLkou1LsohZ",
        "outputId": "4b97f2a7-761b-47b1-9209-29f2fddb5a09"
      },
      "outputs": [
        {
          "output_type": "execute_result",
          "data": {
            "text/plain": [
              "7.999999999999998"
            ]
          },
          "metadata": {},
          "execution_count": 51
        }
      ],
      "source": [
        "A = np.array([\n",
        "    [2,3],\n",
        "    [0,4]\n",
        "])\n",
        "np.linalg.det(A)"
      ]
    },
    {
      "cell_type": "code",
      "execution_count": 52,
      "metadata": {
        "colab": {
          "base_uri": "https://localhost:8080/"
        },
        "id": "58QCohl6s_nf",
        "outputId": "7fc62350-48a9-4c2b-fd36-36b09517c457"
      },
      "outputs": [
        {
          "output_type": "execute_result",
          "data": {
            "text/plain": [
              "-30.000000000000014"
            ]
          },
          "metadata": {},
          "execution_count": 52
        }
      ],
      "source": [
        "B = np.array([\n",
        "              [1, 5, 2],\n",
        "              [3, -1 ,-1],\n",
        "              [0, -2, 1]\n",
        "])\n",
        "np.linalg.det(B)"
      ]
    },
    {
      "cell_type": "code",
      "execution_count": 53,
      "metadata": {
        "colab": {
          "base_uri": "https://localhost:8080/"
        },
        "id": "jfJyrZwTtC3W",
        "outputId": "2598f104-7c93-4633-966a-cd741774f3c0"
      },
      "outputs": [
        {
          "output_type": "execute_result",
          "data": {
            "text/plain": [
              "-235.0000000000002"
            ]
          },
          "metadata": {},
          "execution_count": 53
        }
      ],
      "source": [
        "## Now other mathematics classes would require you to solve this by hand, \n",
        "## and that is great for practicing your memorization and coordination skills \n",
        "## but in this class we aim for simplicity and speed so we'll use programming\n",
        "## but it's completely fine if you want to try to solve this one by hand.\n",
        "B = np.array([\n",
        "    [1,3,5,6],\n",
        "    [0,3,1,3],\n",
        "    [3,1,8,2],\n",
        "    [5,2,6,8]\n",
        "])\n",
        "np.linalg.det(B)"
      ]
    },
    {
      "cell_type": "markdown",
      "metadata": {
        "id": "5uAbAsbftF1m"
      },
      "source": [
        "## Inverse"
      ]
    },
    {
      "cell_type": "markdown",
      "metadata": {
        "id": "c5AYM8W1tH4_"
      },
      "source": [
        "The inverse of a matrix is another fundamental operation in matrix algebra. Determining the inverse of a matrix let us determine if its solvability and its characteristic as a system of linear equation — we'll expand on this in the nect module. Another use of the inverse matrix is solving the problem of divisibility between matrices. Although element-wise division exists but dividing the entire concept of matrices does not exists. Inverse matrices provides a related operation that could have the same concept of \"dividing\" matrices.\n",
        "\n",
        "Now to determine the inverse of a matrix we need to perform several steps. So let's say we have a matrix $M$:\n",
        "$$M = \\begin{bmatrix}1&7\\\\-3&5\\end{bmatrix}$$\n",
        "First, we need to get the determinant of $M$.\n",
        "$$|M| = (1)(5)-(-3)(7) = 26$$\n",
        "Next, we need to reform the matrix into the inverse form:\n",
        "$$M^{-1} = \\frac{1}{|M|} \\begin{bmatrix} m_{(1,1)} & -m_{(0,1)} \\\\ -m_{(1,0)} & m_{(0,0)}\\end{bmatrix}$$\n",
        "So that will be:\n",
        "$$M^{-1} = \\frac{1}{26} \\begin{bmatrix} 5 & -7 \\\\ 3 & 1\\end{bmatrix} = \\begin{bmatrix} \\frac{5}{26} & \\frac{-7}{26} \\\\ \\frac{3}{26} & \\frac{1}{26}\\end{bmatrix}$$\n",
        "For higher-dimension matrices you might need to use co-factors, minors, adjugates, and other reduction techinques. To solve this programmatially we can use `np.linalg.inv()`."
      ]
    },
    {
      "cell_type": "code",
      "execution_count": 54,
      "metadata": {
        "colab": {
          "base_uri": "https://localhost:8080/"
        },
        "id": "2qY2KJODtKOX",
        "outputId": "761979c6-2e8f-4a17-e620-226bb11ef0f3"
      },
      "outputs": [
        {
          "output_type": "execute_result",
          "data": {
            "text/plain": [
              "array([[1, 0],\n",
              "       [0, 1]])"
            ]
          },
          "metadata": {},
          "execution_count": 54
        }
      ],
      "source": [
        "M = np.array([\n",
        "    [1,7],\n",
        "    [-3, 5]\n",
        "])\n",
        "\n",
        "np.array(M @ np.linalg.inv(M), dtype=int)"
      ]
    },
    {
      "cell_type": "code",
      "execution_count": 55,
      "metadata": {
        "colab": {
          "base_uri": "https://localhost:8080/"
        },
        "id": "mCpOF91vtMbt",
        "outputId": "ccb42dc2-e2dd-429a-b3a3-ac37ac279065"
      },
      "outputs": [
        {
          "output_type": "execute_result",
          "data": {
            "text/plain": [
              "array([[-0.12578616,  0.39622642,  0.05660377],\n",
              "       [ 0.19496855, -0.26415094, -0.03773585],\n",
              "       [-0.11320755,  0.05660377,  0.1509434 ]])"
            ]
          },
          "metadata": {},
          "execution_count": 55
        }
      ],
      "source": [
        "P = np.array([\n",
        "              [6, 9, 0],\n",
        "              [4, 2, -1],\n",
        "              [3, 6, 7]\n",
        "])\n",
        "Q = np.linalg.inv(P)\n",
        "Q"
      ]
    },
    {
      "cell_type": "code",
      "execution_count": 56,
      "metadata": {
        "colab": {
          "base_uri": "https://localhost:8080/"
        },
        "id": "mnl1lB7ntOF0",
        "outputId": "69a0f315-1bd1-4465-b033-83a53e181a63"
      },
      "outputs": [
        {
          "output_type": "execute_result",
          "data": {
            "text/plain": [
              "array([[ 1.00000000e+00, -5.55111512e-17, -6.93889390e-18],\n",
              "       [ 8.32667268e-17,  1.00000000e+00, -2.77555756e-17],\n",
              "       [ 2.77555756e-17, -1.38777878e-17,  1.00000000e+00]])"
            ]
          },
          "metadata": {},
          "execution_count": 56
        }
      ],
      "source": [
        "P @ Q"
      ]
    },
    {
      "cell_type": "code",
      "execution_count": 57,
      "metadata": {
        "colab": {
          "base_uri": "https://localhost:8080/"
        },
        "id": "-cO5z-0ttRN9",
        "outputId": "a2faa0e6-6a97-4c1d-bdbf-2a6d027ad075"
      },
      "outputs": [
        {
          "output_type": "execute_result",
          "data": {
            "text/plain": [
              "array([[0, 0, 0, 0, 0, 0, 0],\n",
              "       [0, 0, 0, 0, 0, 0, 0],\n",
              "       [0, 0, 1, 0, 0, 0, 0],\n",
              "       [0, 0, 0, 1, 0, 0, 0],\n",
              "       [0, 0, 0, 0, 0, 0, 0],\n",
              "       [0, 0, 0, 0, 0, 0, 0],\n",
              "       [0, 0, 0, 0, 0, 0, 0]])"
            ]
          },
          "metadata": {},
          "execution_count": 57
        }
      ],
      "source": [
        "## And now let's test our skills in solving a matrix with high dimensions:\n",
        "N = np.array([\n",
        "    [18,5,23,1,0,33,5],\n",
        "    [0,45,0,11,2,4,2],\n",
        "    [5,9,20,0,0,0,3],\n",
        "    [1,6,4,4,8,43,1],\n",
        "    [8,6,8,7,1,6,1],\n",
        "    [-5,15,2,0,0,6,-30],\n",
        "    [-2,-5,1,2,1,20,12],\n",
        "])\n",
        "N_inv = np.linalg.inv(N)\n",
        "np.array(N @ N_inv,dtype=int)"
      ]
    },
    {
      "cell_type": "markdown",
      "metadata": {
        "id": "8IpYdB7FtarW"
      },
      "source": [
        "To validate the wether if the matric that you have solved is really the inverse, we follow this dot product property for a matrix $M$:\n",
        "$$M\\cdot M^{-1} = I$$"
      ]
    },
    {
      "cell_type": "code",
      "execution_count": 58,
      "metadata": {
        "colab": {
          "base_uri": "https://localhost:8080/"
        },
        "id": "_znh9BNQtc3W",
        "outputId": "b6bef1b6-b84b-4328-d550-3eed9eb09bce"
      },
      "outputs": [
        {
          "output_type": "execute_result",
          "data": {
            "text/plain": [
              "array([[0.7 ],\n",
              "       [0.82],\n",
              "       [0.72]])"
            ]
          },
          "metadata": {},
          "execution_count": 58
        }
      ],
      "source": [
        "squad = np.array([\n",
        "    [1.0, 1.0, 0.5],\n",
        "    [0.7, 0.7, 0.9],\n",
        "    [0.3, 0.3, 1.0]\n",
        "])\n",
        "weights = np.array([\n",
        "    [0.2, 0.2, 0.6]\n",
        "])\n",
        "p_grade = squad @ weights.T\n",
        "p_grade\n"
      ]
    },
    {
      "cell_type": "markdown",
      "metadata": {
        "id": "qG8VbyKWtfXf"
      },
      "source": [
        "## Activity"
      ]
    },
    {
      "cell_type": "markdown",
      "metadata": {
        "id": "XNqusHQGthUH"
      },
      "source": [
        "### Task 1"
      ]
    },
    {
      "cell_type": "markdown",
      "source": [
        "Prove and implement the remaining 6 matrix multiplication properties. You may create your own matrices in which their shapes should not be lower than $(3,3)$.\n",
        "In your methodology, create individual flowcharts for each property and discuss the property you would then present your proofs or validity of your implementation in the results section by comparing your result to present functions from NumPy."
      ],
      "metadata": {
        "id": "GFGmscvc1ptw"
      }
    },
    {
      "cell_type": "markdown",
      "source": [
        " 1. $A \\cdot B \\neq B \\cdot A$\n",
        " 2. $A \\cdot (B \\cdot C) = (A \\cdot B) \\cdot C$\n",
        " 3. $A\\cdot(B+C) = A\\cdot B + A\\cdot C$\n",
        " 4. $(B+C)\\cdot A = B\\cdot A + C\\cdot A$\n",
        " 5. $A\\cdot I = A$\n",
        " 6. $A\\cdot \\emptyset = \\emptyset$ "
      ],
      "metadata": {
        "id": "Orfg0hfF1ryM"
      }
    },
    {
      "cell_type": "markdown",
      "source": [
        "$A \\cdot B \\neq B \\cdot A$\n",
        "\n",
        "$$A = \\begin{bmatrix}1&2&3&4\\\\3&3&1&2\\\\2&1&3&1\\\\ 1&2&3&5 \\\\ 1&3&4&2\\end{bmatrix}  B = \\begin{bmatrix}1&3&1&2&6\\\\2&1&1&3&4\\\\1&1&2&3&4\\\\ 3&5&3&7&2 \\end{bmatrix}$$"
      ],
      "metadata": {
        "id": "pMND_NEG1tv_"
      }
    },
    {
      "cell_type": "code",
      "source": [
        "A = np.array([\n",
        "    [1,2,3,4],\n",
        "    [3,3,1,2],\n",
        "    [2,1,3,1],\n",
        "    [1,2,3,5],\n",
        "    [1,3,4,2]\n",
        "])\n",
        "\n",
        "y = len(A)\n",
        "print(\"Number of rows in Matrix A : \", y)\n",
        "\n",
        "B = np.array([\n",
        "    [1,3,1,2,6],\n",
        "    [2,1,1,3,4],\n",
        "    [1,1,2,3,4],\n",
        "    [3,5,3,7,2]\n",
        "])\n",
        "\n",
        "z = len(B[0])\n",
        "print(\"Number of columns in Matrix B: \", z)\n",
        "\n",
        "if y == z:\n",
        "  print ('A·B :')\n",
        "  print(A@B)\n",
        "else:\n",
        "  print(\"Not Viable for Operation\")"
      ],
      "metadata": {
        "colab": {
          "base_uri": "https://localhost:8080/"
        },
        "id": "huTAE8Nn1wHG",
        "outputId": "e9efba6f-45d7-40ad-c1ba-968415f93950"
      },
      "execution_count": 59,
      "outputs": [
        {
          "output_type": "stream",
          "name": "stdout",
          "text": [
            "Number of rows in Matrix A :  5\n",
            "Number of columns in Matrix B:  5\n",
            "A·B :\n",
            "[[20 28 21 45 34]\n",
            " [16 23 14 32 38]\n",
            " [10 15 12 23 30]\n",
            " [23 33 24 52 36]\n",
            " [17 20 18 37 38]]\n"
          ]
        }
      ]
    },
    {
      "cell_type": "code",
      "source": [
        "print ('B·A :')\n",
        "B @ A"
      ],
      "metadata": {
        "colab": {
          "base_uri": "https://localhost:8080/"
        },
        "id": "zepwp-A41ypN",
        "outputId": "7e2f4039-169f-4f59-ecd1-d37abb083fec"
      },
      "execution_count": 60,
      "outputs": [
        {
          "output_type": "stream",
          "name": "stdout",
          "text": [
            "B·A :\n"
          ]
        },
        {
          "output_type": "execute_result",
          "data": {
            "text/plain": [
              "array([[20, 34, 39, 33],\n",
              "       [14, 26, 35, 34],\n",
              "       [15, 25, 35, 31],\n",
              "       [33, 44, 52, 64]])"
            ]
          },
          "metadata": {},
          "execution_count": 60
        }
      ]
    },
    {
      "cell_type": "code",
      "source": [
        "np.array_equal(A @ B,B @ A)"
      ],
      "metadata": {
        "colab": {
          "base_uri": "https://localhost:8080/"
        },
        "id": "sSmU0aau10gg",
        "outputId": "cde392ca-1f73-48b9-e631-b0710bd57d6a"
      },
      "execution_count": 61,
      "outputs": [
        {
          "output_type": "execute_result",
          "data": {
            "text/plain": [
              "False"
            ]
          },
          "metadata": {},
          "execution_count": 61
        }
      ]
    },
    {
      "cell_type": "markdown",
      "source": [
        "$A \\cdot (B \\cdot C) = (A \\cdot B) \\cdot C$\n",
        "\n",
        "$$A = \\begin{bmatrix}11&9&5&13\\\\7&7&5&4\\\\10&8&6&11\\\\ 14&2&20&5 \\end{bmatrix}  B = \\begin{bmatrix}1&4&11&2&8\\\\21&2&7&6&13\\\\8&1&5&10&4\\\\ 14&5&3&7&2 \\end{bmatrix} C= \\begin{bmatrix}16&3&2&8\\\\3&9&5&13\\\\2&8&10&4\\\\ 12&5&4&6\\\\6&2&6&7\\end{bmatrix}$$\n",
        "\n",
        "\n",
        "In this case, $A$ has a shape of $(4,4)$, $B$ has a shape of $(4,5)$ and $C$ has a shape of $(5,4)$. In the left side of equation, it is advisable to multiply the $B$ and $C$ first before proceeding to $A$. While on the right side of equation, $A$ and $B$ are the first to be multiplied before proceeding to $C$."
      ],
      "metadata": {
        "id": "jIOetZbk12X2"
      }
    },
    {
      "cell_type": "code",
      "source": [
        "A = np.array([\n",
        "    [11,9,5,13],\n",
        "    [7,7,5,4],\n",
        "    [10,8,6,11],\n",
        "    [14,2,20,5]\n",
        "])\n",
        "\n",
        "B = np.array([\n",
        "    [1,4,11,2,8],\n",
        "    [21,2,7,6,13],\n",
        "    [8,1,5,10,4],\n",
        "    [14,5,3,7,2]\n",
        "])\n",
        "\n",
        "C = np.array([\n",
        "    [16,3,2,8],\n",
        "    [3,9,5,13],\n",
        "    [2,8,10,4],\n",
        "    [12,5,4,6],\n",
        "    [6,2,6,7]\n",
        "])"
      ],
      "metadata": {
        "id": "adRyTsCi1352"
      },
      "execution_count": 62,
      "outputs": []
    },
    {
      "cell_type": "code",
      "source": [
        "print ('A·(B·C) :')\n",
        "A @ (B@C)"
      ],
      "metadata": {
        "colab": {
          "base_uri": "https://localhost:8080/"
        },
        "id": "up20z7v615uR",
        "outputId": "c2754350-2256-41ce-befd-f342a269a873"
      },
      "execution_count": 63,
      "outputs": [
        {
          "output_type": "stream",
          "name": "stdout",
          "text": [
            "A·(B·C) :\n"
          ]
        },
        {
          "output_type": "execute_result",
          "data": {
            "text/plain": [
              "array([[11754,  6025,  6358,  9143],\n",
              "       [ 7185,  3677,  4051,  5552],\n",
              "       [10729,  5510,  5835,  8317],\n",
              "       [10125,  5898,  6395,  8031]])"
            ]
          },
          "metadata": {},
          "execution_count": 63
        }
      ]
    },
    {
      "cell_type": "code",
      "source": [
        "print ('(A·B)·C :')\n",
        "(A@B) @ C"
      ],
      "metadata": {
        "colab": {
          "base_uri": "https://localhost:8080/"
        },
        "id": "-bbXFKwH17dH",
        "outputId": "49c9888f-1f89-49cd-86eb-4f33885217a5"
      },
      "execution_count": 64,
      "outputs": [
        {
          "output_type": "stream",
          "name": "stdout",
          "text": [
            "(A·B)·C :\n"
          ]
        },
        {
          "output_type": "execute_result",
          "data": {
            "text/plain": [
              "array([[11754,  6025,  6358,  9143],\n",
              "       [ 7185,  3677,  4051,  5552],\n",
              "       [10729,  5510,  5835,  8317],\n",
              "       [10125,  5898,  6395,  8031]])"
            ]
          },
          "metadata": {},
          "execution_count": 64
        }
      ]
    },
    {
      "cell_type": "code",
      "source": [
        "np.array_equal(A @ (B@C),(A@B) @ C)"
      ],
      "metadata": {
        "colab": {
          "base_uri": "https://localhost:8080/"
        },
        "id": "BaKELTHD19Im",
        "outputId": "db49d94b-9fd8-4330-b316-4f3808298bda"
      },
      "execution_count": 65,
      "outputs": [
        {
          "output_type": "execute_result",
          "data": {
            "text/plain": [
              "True"
            ]
          },
          "metadata": {},
          "execution_count": 65
        }
      ]
    },
    {
      "cell_type": "markdown",
      "source": [
        "$A\\cdot(B+C) = A\\cdot B + A\\cdot C$\n",
        "\n",
        "$$A = \\begin{bmatrix}10&2&8&9&3\\\\3&4&16&2&21\\\\7&11&4&13&4\\\\ 10&2&4&9&1\\end{bmatrix}  B = \\begin{bmatrix}1&7&21&2&6\\\\20&1&9&3&5\\\\11&1&12&3&7\\\\ 3&15&9&7&8 \\\\ 14&1&2&3&3\\end{bmatrix} \\\\C= \\begin{bmatrix}9&13&2&8&5\\\\3&2&15&3&21\\\\20&2&2&14&4\\\\ 11&5&4&6&13 \\\\ 9&2&7&14&6\\end{bmatrix}$$\n",
        "\n",
        "In this given, $A$ has a shape of $(4,5)$, $B$ has a shape of $(5,5)$ and $C$ has a shape of $(5,5)$. In the left side of equation, the $B$ and $C$ are added first since they have a same shape, before multiplying to $A$. While on the right side of equation, $A$ is multiplied by both $B$ and $C$, then add."
      ],
      "metadata": {
        "id": "oRgC5DKA1_Qj"
      }
    },
    {
      "cell_type": "code",
      "source": [
        "A = np.array([\n",
        "    [10,2,8,9,3],\n",
        "    [3,4,16,2,21],\n",
        "    [7,11,4,13,4],\n",
        "    [10,2,4,9,1]\n",
        "])\n",
        "\n",
        "B = np.array([\n",
        "    [1,7,21,2,6],\n",
        "    [20,1,9,3,5],\n",
        "    [11,1,12,3,7],\n",
        "    [3,15,9,7,8],\n",
        "    [14,1,2,3,3]\n",
        "])\n",
        "\n",
        "C = np.array([\n",
        "    [9,13,2,8,5],\n",
        "    [3,2,15,3,21],\n",
        "    [20,2,2,14,4],\n",
        "    [11,5,4,6,13],\n",
        "    [9,2,7,14,6]\n",
        "])"
      ],
      "metadata": {
        "id": "U_3rUcRW2CCe"
      },
      "execution_count": 66,
      "outputs": []
    },
    {
      "cell_type": "code",
      "source": [
        "print ('A·(B+C) :')\n",
        "A @ (B+C)"
      ],
      "metadata": {
        "colab": {
          "base_uri": "https://localhost:8080/"
        },
        "id": "-gE2rqP42ENh",
        "outputId": "9e8e162e-a838-47ae-b99c-2155662e2753"
      },
      "execution_count": 67,
      "outputs": [
        {
          "output_type": "stream",
          "name": "stdout",
          "text": [
            "A·(B+C) :\n"
          ]
        },
        {
          "output_type": "execute_result",
          "data": {
            "text/plain": [
              "array([[ 589,  419,  534,  416,  466],\n",
              "       [1129,  223,  604,  709,  544],\n",
              "       [ 721,  457,  686,  441,  716],\n",
              "       [ 419,  401,  460,  314,  404]])"
            ]
          },
          "metadata": {},
          "execution_count": 67
        }
      ]
    },
    {
      "cell_type": "code",
      "source": [
        "print ('(A·B)+(A·C) :')\n",
        "(A@B) + (A@C)"
      ],
      "metadata": {
        "colab": {
          "base_uri": "https://localhost:8080/"
        },
        "id": "dAauyyS52GA3",
        "outputId": "c19a6620-c597-46c2-8120-6b5f5ad475b9"
      },
      "execution_count": 68,
      "outputs": [
        {
          "output_type": "stream",
          "name": "stdout",
          "text": [
            "(A·B)+(A·C) :\n"
          ]
        },
        {
          "output_type": "execute_result",
          "data": {
            "text/plain": [
              "array([[ 589,  419,  534,  416,  466],\n",
              "       [1129,  223,  604,  709,  544],\n",
              "       [ 721,  457,  686,  441,  716],\n",
              "       [ 419,  401,  460,  314,  404]])"
            ]
          },
          "metadata": {},
          "execution_count": 68
        }
      ]
    },
    {
      "cell_type": "code",
      "source": [
        "np.array_equal(A @ (B+C),(A@B) + (A@C))"
      ],
      "metadata": {
        "colab": {
          "base_uri": "https://localhost:8080/"
        },
        "id": "hGBnai4C2HqY",
        "outputId": "861577de-47b7-45d4-d9ad-24c50d4b10a6"
      },
      "execution_count": 69,
      "outputs": [
        {
          "output_type": "execute_result",
          "data": {
            "text/plain": [
              "True"
            ]
          },
          "metadata": {},
          "execution_count": 69
        }
      ]
    },
    {
      "cell_type": "markdown",
      "source": [
        "$(B+C)\\cdot A = B\\cdot A + C\\cdot A$\n",
        "\n",
        "$$A = \\begin{bmatrix}9&21&3&1&3&9\\\\13&2&8&2&16&2\\\\8&10&2&12&1&7\\\\ 8&12&8&4&7&5\\\\ 10&8&1&11&4&7 \\\\ 1&2&3&4&5&7\\ \\end{bmatrix}  B = \\begin{bmatrix}11&7&18&2&6&3\\\\21&2&9&4&5&3\\\\14&2&10&2&7&10\\\\ 4&13&8&4&8&13 \\\\ 10&4&8&4&13&7\\\\ 1&9&9&4&11&9\\end{bmatrix} \\\\C= \\begin{bmatrix}11&3&12&9&4&7\\\\5&12&10&4&8&7\\\\18&2&9&10&7&9\\\\ 10&5&7&9&10&1 \\\\ 10&4&8&11&3&7\\\\1&4&18&4&9&10\\end{bmatrix}$$\n",
        "\n",
        "For the 4th property, $A$ has a shape of $(6,6)$, $B$ has a shape of $(6,6)$ and $C$ has a shape of $(6,6)$. Same concept from the previous given is implimented."
      ],
      "metadata": {
        "id": "yjihh97a2JrX"
      }
    },
    {
      "cell_type": "code",
      "source": [
        "A = np.array([\n",
        "    [9,21,3,1,3,9],\n",
        "    [13,2,8,2,16,2],\n",
        "    [8,10,2,12,1,7],\n",
        "    [8,12,8,4,7,5],\n",
        "    [10,8,1,11,4,7],\n",
        "    [1,2,3,4,5,7]\n",
        "])\n",
        "\n",
        "B = np.array([\n",
        "    [11,7,18,2,6,3],\n",
        "    [21,2,9,4,5,3],\n",
        "    [14,2,10,2,7,10],\n",
        "    [4,13,8,4,8,13],\n",
        "    [10,4,8,4,13,7],\n",
        "    [1,9,9,4,11,9]\n",
        "])\n",
        "\n",
        "C = np.array([\n",
        "    [11,3,12,9,4,7],\n",
        "    [5,12,10,4,8,7],\n",
        "    [18,2,9,10,7,9],\n",
        "    [10,5,7,9,10,1],\n",
        "    [10,4,8,11,3,7],\n",
        "    [1,4,18,4,9,10]\n",
        "])"
      ],
      "metadata": {
        "id": "e7vo4Azu2LIE"
      },
      "execution_count": 70,
      "outputs": []
    },
    {
      "cell_type": "code",
      "source": [
        "print ('(B+C)·A :')\n",
        "print((B+C) @ A)"
      ],
      "metadata": {
        "colab": {
          "base_uri": "https://localhost:8080/"
        },
        "id": "kyOAhWC72NDV",
        "outputId": "2388c089-6ee4-4dfb-de73-c55091d17b49"
      },
      "execution_count": 71,
      "outputs": [
        {
          "output_type": "stream",
          "name": "stdout",
          "text": [
            "(B+C)·A :\n",
            "[[ 766 1014  334  596  423  623]\n",
            " [ 772  984  335  497  479  596]\n",
            " [ 747 1164  333  546  414  720]\n",
            " [ 778  808  380  536  578  556]\n",
            " [ 706  932  334  520  443  593]\n",
            " [ 686  632  305  680  472  546]]\n"
          ]
        }
      ]
    },
    {
      "cell_type": "code",
      "source": [
        "print ('B·A + C·A')\n",
        "B @ A + C @ A"
      ],
      "metadata": {
        "colab": {
          "base_uri": "https://localhost:8080/"
        },
        "id": "KbtlX2gB2NJT",
        "outputId": "e5200dee-e75b-403a-8acb-5aa704fad75e"
      },
      "execution_count": 72,
      "outputs": [
        {
          "output_type": "stream",
          "name": "stdout",
          "text": [
            "B·A + C·A\n"
          ]
        },
        {
          "output_type": "execute_result",
          "data": {
            "text/plain": [
              "array([[ 766, 1014,  334,  596,  423,  623],\n",
              "       [ 772,  984,  335,  497,  479,  596],\n",
              "       [ 747, 1164,  333,  546,  414,  720],\n",
              "       [ 778,  808,  380,  536,  578,  556],\n",
              "       [ 706,  932,  334,  520,  443,  593],\n",
              "       [ 686,  632,  305,  680,  472,  546]])"
            ]
          },
          "metadata": {},
          "execution_count": 72
        }
      ]
    },
    {
      "cell_type": "code",
      "source": [
        "np.array_equal((B+C) @ A, B @ A + C @ A)"
      ],
      "metadata": {
        "colab": {
          "base_uri": "https://localhost:8080/"
        },
        "id": "y-qGIJK02Q4-",
        "outputId": "c07ea581-1f08-43d4-8d25-371c0d86095a"
      },
      "execution_count": 73,
      "outputs": [
        {
          "output_type": "execute_result",
          "data": {
            "text/plain": [
              "True"
            ]
          },
          "metadata": {},
          "execution_count": 73
        }
      ]
    },
    {
      "cell_type": "markdown",
      "source": [
        "$A\\cdot I = A$\n",
        "\n",
        "$$A = \\begin{bmatrix}10&8&7&20&1\\\\4&9&11&7&10\\\\11&5&8&12&9\\\\ 8&20&3&4&1 \\end{bmatrix}  I = \\begin{bmatrix}1&0&0&0&0\\\\0&1&0&0&0\\\\0&0&1&0&0\\\\ 0&0&0&1&0\\\\ 0&0&0&0&1 \\end{bmatrix} $$\n",
        "\n",
        "The 5th property includes a multiplication of an identity matrix, $A$ has a shape of $(4,5)$ and the identity matrix has a shape of $(5,5$)."
      ],
      "metadata": {
        "id": "hwpTnagl2S2i"
      }
    },
    {
      "cell_type": "code",
      "source": [
        "A = np.array([\n",
        "    [10,8,7,20,1],\n",
        "    [4,9,11,7,10],\n",
        "    [11,5,8,12,9],\n",
        "    [8,20,3,4,1]\n",
        "])\n",
        "\n",
        "I = np.array([\n",
        "    [1,0,0,0,0],\n",
        "    [0,1,0,0,0],\n",
        "    [0,0,1,0,0],\n",
        "    [0,0,0,1,0],\n",
        "    [0,0,0,0,1]\n",
        "])\n",
        "\n",
        "identity = np.identity(I.shape[0])\n",
        "if((identity == I).all()):\n",
        "    print('A @ I')\n",
        "    print(A @ I)\n",
        "else:\n",
        "    print('Result will not be equal to the values of the Multiplicand')"
      ],
      "metadata": {
        "colab": {
          "base_uri": "https://localhost:8080/"
        },
        "id": "3BuVhC3a2ULI",
        "outputId": "1a0d08bd-692a-4746-eae6-88be62ccfd8a"
      },
      "execution_count": 74,
      "outputs": [
        {
          "output_type": "stream",
          "name": "stdout",
          "text": [
            "A @ I\n",
            "[[10  8  7 20  1]\n",
            " [ 4  9 11  7 10]\n",
            " [11  5  8 12  9]\n",
            " [ 8 20  3  4  1]]\n"
          ]
        }
      ]
    },
    {
      "cell_type": "code",
      "source": [
        "np.array_equal(A,A @ I)"
      ],
      "metadata": {
        "colab": {
          "base_uri": "https://localhost:8080/"
        },
        "id": "TONKQM452V9T",
        "outputId": "4f5b6e88-77cb-4275-cc2d-24c644a7ff65"
      },
      "execution_count": 75,
      "outputs": [
        {
          "output_type": "execute_result",
          "data": {
            "text/plain": [
              "True"
            ]
          },
          "metadata": {},
          "execution_count": 75
        }
      ]
    },
    {
      "cell_type": "markdown",
      "source": [
        "$A\\cdot \\emptyset = \\emptyset$ \n",
        "\n",
        "$$A = \\begin{bmatrix}9&8&15&3\\\\10&6&2&8\\\\1&9&9&13\\\\ 6&8&11&4 \\end{bmatrix}  \\emptyset = \\begin{bmatrix}11&2&8&7&9\\\\20&1&3&6&6\\\\9&11&4&8&4\\\\ 3&5&13&7&8 \\end{bmatrix} $$\n",
        "\n",
        "For the last multiplication property, $A$ has a shape of $(4,4)$ and a matrix whose not a zero matrix has a shape of $(4,5)$."
      ],
      "metadata": {
        "id": "BLM4h4hT2XxR"
      }
    },
    {
      "cell_type": "code",
      "source": [
        "A = np.array([\n",
        "    [9,8,15,3],\n",
        "    [10,6,2,8],\n",
        "    [1,9,9,13],\n",
        "    [6,8,11,4]\n",
        "])\n",
        "\n",
        "Ø = np.array([\n",
        "    [11,2,8,7,9],\n",
        "    [20,1,3,6,6],\n",
        "    [9,11,4,8,4],\n",
        "    [3,5,13,7,8]\n",
        "])\n",
        "\n",
        "zero = np.zeros(Ø.shape[1])\n",
        "if((zero == Ø).all()):\n",
        "    print('Result will become a Zero Matrix')\n",
        "else:\n",
        "    print('A · Ø')\n",
        "    print(A @ Ø)"
      ],
      "metadata": {
        "colab": {
          "base_uri": "https://localhost:8080/"
        },
        "id": "1naRoCeM2ZZX",
        "outputId": "90cd51e5-7e41-468d-8347-ebe4e2aa76cc"
      },
      "execution_count": 76,
      "outputs": [
        {
          "output_type": "stream",
          "name": "stdout",
          "text": [
            "A · Ø\n",
            "[[403 206 195 252 213]\n",
            " [272  88 210 178 198]\n",
            " [311 175 240 224 203]\n",
            " [337 161 168 206 178]]\n"
          ]
        }
      ]
    },
    {
      "cell_type": "code",
      "source": [
        "prod = np.array([\n",
        "    [403,206,195,252,213],\n",
        "    [272,88,210,178,198],\n",
        "    [311,175,240,224,203],\n",
        "    [337,161,168,206,175]\n",
        "])\n",
        "\n",
        "\n",
        "is_all_zero = np.all((prod == 0))\n",
        "if is_all_zero:\n",
        "  print('Property denied')\n",
        "else:\n",
        "  print('Property accepted')"
      ],
      "metadata": {
        "colab": {
          "base_uri": "https://localhost:8080/"
        },
        "id": "fc8Y4q2c2bKf",
        "outputId": "8696cc3a-946d-4e05-a7f4-7e0a455dc6df"
      },
      "execution_count": 77,
      "outputs": [
        {
          "output_type": "stream",
          "name": "stdout",
          "text": [
            "Property accepted\n"
          ]
        }
      ]
    }
  ],
  "metadata": {
    "colab": {
      "name": "Assignment 5 - Matrix Operations in Python.ipynb",
      "provenance": [],
      "authorship_tag": "ABX9TyOZgIhDW5AiY82zWzCOV6c7",
      "include_colab_link": true
    },
    "kernelspec": {
      "display_name": "Python 3",
      "name": "python3"
    },
    "language_info": {
      "name": "python"
    }
  },
  "nbformat": 4,
  "nbformat_minor": 0
}