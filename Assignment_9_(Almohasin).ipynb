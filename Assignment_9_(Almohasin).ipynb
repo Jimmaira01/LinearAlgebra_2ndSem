{
  "nbformat": 4,
  "nbformat_minor": 0,
  "metadata": {
    "colab": {
      "name": "Assignment#9 (Almohasin).ipynb",
      "provenance": [],
      "authorship_tag": "ABX9TyNY2cfTTJQWKJzW0KxXHC2/",
      "include_colab_link": true
    },
    "kernelspec": {
      "name": "python3",
      "display_name": "Python 3"
    },
    "language_info": {
      "name": "python"
    }
  },
  "cells": [
    {
      "cell_type": "markdown",
      "metadata": {
        "id": "view-in-github",
        "colab_type": "text"
      },
      "source": [
        "<a href=\"https://colab.research.google.com/github/Jimmaira01/LinearAlgebra_2ndSem/blob/main/Assignment_9_(Almohasin).ipynb\" target=\"_parent\"><img src=\"https://colab.research.google.com/assets/colab-badge.svg\" alt=\"Open In Colab\"/></a>"
      ]
    },
    {
      "cell_type": "markdown",
      "source": [
        "# Linear Algebra for CHE\n",
        "# Lab 2 - Plotting Vector using NumPy and MatPlotLib"
      ],
      "metadata": {
        "id": "YoGzmivAzaM6"
      }
    },
    {
      "cell_type": "markdown",
      "source": [
        "In this laboratory we will be discussing the basics of numerical and scientific programming by working with Vectors using NumPy and MatPlotLib."
      ],
      "metadata": {
        "id": "v_5muM0lzhYW"
      }
    },
    {
      "cell_type": "markdown",
      "source": [
        "### Objectives\n",
        "At the end of this activity you will be able to:\n",
        "1. Be familiar with the libraries in Python for numerical and scientific programming.\n",
        "2. Visualize vectors through Python programming.\n",
        "3. Perform simple vector operations through code."
      ],
      "metadata": {
        "id": "4O6ufHBFzjaF"
      }
    },
    {
      "cell_type": "markdown",
      "source": [
        "## Discussion\n",
        "  With respect to Python, a vector is a one-dimensional array of lists. It occupies the elements in a similar manner as that of a Python list."
      ],
      "metadata": {
        "id": "gcsdcfjfzpd5"
      }
    },
    {
      "cell_type": "markdown",
      "source": [
        "### NumPy"
      ],
      "metadata": {
        "id": "iK2QzqwjzrJk"
      }
    },
    {
      "cell_type": "markdown",
      "source": [
        "NumPy or Numerical Python, is mainly used for matrix and vector operations. It is capable of declaring computing and representing matrices. Most Python scientific programming libraries uses NumPy as the basic code."
      ],
      "metadata": {
        "id": "zEm98WwIzs0r"
      }
    },
    {
      "cell_type": "markdown",
      "source": [
        "Scalars \\\\\n",
        "Represent magnitude or a single value\n",
        "\n",
        "Vectors \\\\\n",
        "Represent magnitude with directors"
      ],
      "metadata": {
        "id": "BRVVTHoUzuzh"
      }
    },
    {
      "cell_type": "markdown",
      "source": [
        "#### Representing Vectors"
      ],
      "metadata": {
        "id": "ZO36P-tkzwqG"
      }
    },
    {
      "cell_type": "markdown",
      "source": [
        "Now that you know how to represent vectors using their component and matrix form we can now hard-code them in Python. Let's say that you have the vectors:"
      ],
      "metadata": {
        "id": "2ziJ6clGz0Hc"
      }
    },
    {
      "cell_type": "markdown",
      "source": [
        "$$ A = 8\\hat{x} + 11\\hat{y}  -4\\hat{z}\\\\\n",
        "B = 15\\hat{x} - 7\\hat{y} + 10\\hat{z}\\\\\n",
        "C = 9ax + 10ay - 11az \\\\\n",
        "D = 14\\hat{i} - 3\\hat{j} + 9\\hat{k}$$"
      ],
      "metadata": {
        "id": "Qh4XjVo8z18b"
      }
    },
    {
      "cell_type": "markdown",
      "source": [
        "In which it's matrix equivalent is:"
      ],
      "metadata": {
        "id": "uIgYIl8az4N1"
      }
    },
    {
      "cell_type": "markdown",
      "source": [
        "$$ A = \\begin{bmatrix} 8 \\\\ 11\\\\ -4\\end{bmatrix} , B = \\begin{bmatrix} 15 \\\\ -7\\\\ 10\\end{bmatrix} , C = \\begin{bmatrix} 9 \\\\ 10 \\\\  -11 \\end{bmatrix}, D = \\begin{bmatrix} 14 \\\\ -3 \\\\ 9\\end{bmatrix}\n",
        "$$\n",
        "$$ A = \\begin{bmatrix} 8 & 11&-4\\end{bmatrix} , B = \\begin{bmatrix} 15 & -7 &  10\\end{bmatrix} , C = \\begin{bmatrix} 9 & 10 & -11\\end{bmatrix} , D = \\begin{bmatrix} 14 & -3 & 9\\end{bmatrix} \n",
        "$$"
      ],
      "metadata": {
        "id": "a3myCI06z6JC"
      }
    },
    {
      "cell_type": "markdown",
      "source": [
        "We can then start doing numpy code with this by:"
      ],
      "metadata": {
        "id": "YInBDv6Dz8Su"
      }
    },
    {
      "cell_type": "code",
      "source": [
        "## Importing necessary libraries\n",
        "import numpy as np ## 'np' here is short-hand name of the library (numpy) or a nickname."
      ],
      "metadata": {
        "id": "QvKC4ca7z-b6"
      },
      "execution_count": null,
      "outputs": []
    },
    {
      "cell_type": "code",
      "source": [
        "A = np.array([8, 11, -4])\n",
        "B = np.array([15, -7, 10])\n",
        "C = np.array([\n",
        "              [9],\n",
        "              [10],\n",
        "              [-11]\n",
        "])\n",
        "D = np.array ([[14],\n",
        "              [-3],\n",
        "              [9]])\n",
        "print('Vector A is ', A)\n",
        "print('Vector B is ', B)\n",
        "print('Vector C is ', C)\n",
        "print('Vector D is ', D)"
      ],
      "metadata": {
        "colab": {
          "base_uri": "https://localhost:8080/"
        },
        "id": "lIswMAbl0A5k",
        "outputId": "3e4b2589-7587-4da9-9db2-26af947691f4"
      },
      "execution_count": null,
      "outputs": [
        {
          "output_type": "stream",
          "name": "stdout",
          "text": [
            "Vector A is  [ 8 11 -4]\n",
            "Vector B is  [15 -7 10]\n",
            "Vector C is  [[  9]\n",
            " [ 10]\n",
            " [-11]]\n",
            "Vector D is  [[14]\n",
            " [-3]\n",
            " [ 9]]\n"
          ]
        }
      ]
    },
    {
      "cell_type": "markdown",
      "source": [
        "#### Describing vectors in NumPy"
      ],
      "metadata": {
        "id": "qQk-hy3Z0DS7"
      }
    },
    {
      "cell_type": "markdown",
      "source": [
        "Describing vectors is very important if we want to perform basic to advanced operations with them. The fundamental ways in describing vectors are knowing their shape, size and dimensions."
      ],
      "metadata": {
        "id": "u0sfBBAM0FIM"
      }
    },
    {
      "cell_type": "code",
      "source": [
        "### Checking shapes\n",
        "### Shapes tells us how many elements are there on each row and column\n",
        "\n",
        "G = np.array([[15, 11, 2, 9, -0.5, 3, 10]])\n",
        "G.shape"
      ],
      "metadata": {
        "colab": {
          "base_uri": "https://localhost:8080/"
        },
        "id": "BWSUeB_O0IVO",
        "outputId": "ebf5790f-d37f-48d8-ade3-23be78aa7298"
      },
      "execution_count": null,
      "outputs": [
        {
          "output_type": "execute_result",
          "data": {
            "text/plain": [
              "(1, 7)"
            ]
          },
          "metadata": {},
          "execution_count": 3
        }
      ]
    },
    {
      "cell_type": "code",
      "source": [
        "### Checking size\n",
        "### Array/Vector sizes tells us many total number of elements are there in the vector\n",
        "\n",
        "G.size"
      ],
      "metadata": {
        "colab": {
          "base_uri": "https://localhost:8080/"
        },
        "id": "U7MaFk_90KHt",
        "outputId": "ebd9b47f-d211-4ef8-e828-ad6a328e46a3"
      },
      "execution_count": null,
      "outputs": [
        {
          "output_type": "execute_result",
          "data": {
            "text/plain": [
              "7"
            ]
          },
          "metadata": {},
          "execution_count": 4
        }
      ]
    },
    {
      "cell_type": "code",
      "source": [
        "### Checking dimensions\n",
        "### The dimensions or rank of a vector tells us how many dimensions are there for the vector.\n",
        "\n",
        "G.ndim"
      ],
      "metadata": {
        "colab": {
          "base_uri": "https://localhost:8080/"
        },
        "id": "HpkWKmr90MLa",
        "outputId": "0efea60d-9f95-4d1d-b01d-126ad61cb79c"
      },
      "execution_count": null,
      "outputs": [
        {
          "output_type": "execute_result",
          "data": {
            "text/plain": [
              "2"
            ]
          },
          "metadata": {},
          "execution_count": 5
        }
      ]
    },
    {
      "cell_type": "markdown",
      "source": [
        "Great! Now let's try to explore in performing operations with these vectors."
      ],
      "metadata": {
        "id": "ZmBgrITu0Pit"
      }
    },
    {
      "cell_type": "markdown",
      "source": [
        "#### Addition"
      ],
      "metadata": {
        "id": "yHeo5cb50R6Q"
      }
    },
    {
      "cell_type": "markdown",
      "source": [
        "The addition rule is simple, the we just need to add the elements of the matrices according to their index. So in this case if we add vector $A$ and vector $B$ we will have a resulting vector:"
      ],
      "metadata": {
        "id": "-ylnxX1b0Ts_"
      }
    },
    {
      "cell_type": "markdown",
      "source": [
        "$$R = 23\\hat{x}+4\\hat{y}+6\\hat{z} \\\\ \\\\or \\\\ \\\\ R = \\begin{bmatrix} 23 \\\\ 4\\\\6\\end{bmatrix} $$"
      ],
      "metadata": {
        "id": "tggaZFDC0Vvb"
      }
    },
    {
      "cell_type": "markdown",
      "source": [
        "So let's try to do that in NumPy in several number of ways:"
      ],
      "metadata": {
        "id": "Xb1iOeus0YZS"
      }
    },
    {
      "cell_type": "code",
      "source": [
        "R = np.add(A, B) ## this is the functional method using the numpy library\n",
        "P = np.add(C, D)\n",
        "print (\"sum of A & B:\")\n",
        "print (R)\n",
        "print (\"sum of C & D:\")\n",
        "print (P)"
      ],
      "metadata": {
        "colab": {
          "base_uri": "https://localhost:8080/"
        },
        "id": "KD7ibTRR0aNr",
        "outputId": "6acb83f6-c16a-4351-a929-82553d465449"
      },
      "execution_count": null,
      "outputs": [
        {
          "output_type": "stream",
          "name": "stdout",
          "text": [
            "sum of A & B:\n",
            "[23  4  6]\n",
            "sum of C & D:\n",
            "[[23]\n",
            " [ 7]\n",
            " [-2]]\n"
          ]
        }
      ]
    },
    {
      "cell_type": "code",
      "source": [
        "R = A + B   ## this is the explicit method, since Python does a value-reference so it can \n",
        "            ## know that these variables would need to do array operations.\n",
        "R"
      ],
      "metadata": {
        "colab": {
          "base_uri": "https://localhost:8080/"
        },
        "id": "SxMGWC9Q0cHM",
        "outputId": "f4960b68-9987-43a5-ff9f-745aeb3ab6b5"
      },
      "execution_count": null,
      "outputs": [
        {
          "output_type": "execute_result",
          "data": {
            "text/plain": [
              "array([23,  4,  6])"
            ]
          },
          "metadata": {},
          "execution_count": 7
        }
      ]
    },
    {
      "cell_type": "code",
      "source": [
        "pos1 = np.array([0,0,0])\n",
        "pos2 = np.array([0,1,3])\n",
        "pos3 = np.array([1,5,-2])\n",
        "pos4 = np.array([5,-3,3])\n",
        "sumR = pos1 + pos2 + pos3 + pos4\n",
        "productR = np.multiply(pos3, pos4)\n",
        "R = pos3 / pos4\n",
        "R\n",
        "\n",
        "print(\"sum:\")\n",
        "print(sumR)\n",
        "print(\"product:\")\n",
        "print(productR)\n",
        "print(\"quotient:\")\n",
        "print(R)"
      ],
      "metadata": {
        "colab": {
          "base_uri": "https://localhost:8080/"
        },
        "id": "nc-_FG9Y0eYN",
        "outputId": "8c3b8813-5cc8-461d-99c2-110b2d568ea0"
      },
      "execution_count": null,
      "outputs": [
        {
          "output_type": "stream",
          "name": "stdout",
          "text": [
            "sum:\n",
            "[6 3 4]\n",
            "product:\n",
            "[  5 -15  -6]\n",
            "quotient:\n",
            "[ 0.2        -1.66666667 -0.66666667]\n"
          ]
        }
      ]
    },
    {
      "cell_type": "markdown",
      "source": [
        "##### Try for yourself!"
      ],
      "metadata": {
        "id": "1ZTiA1ZK0gwD"
      }
    },
    {
      "cell_type": "markdown",
      "source": [
        "Try to implement subtraction, multiplication, and division with vectors $A$ and $B$!"
      ],
      "metadata": {
        "id": "LKzwJFnZ0i3D"
      }
    },
    {
      "cell_type": "markdown",
      "source": [
        "$$ A = \\begin{bmatrix} 18 & 4&7\\\\ 6&10&-1\\\\ -9&3&-11\\end{bmatrix}  B = \\begin{bmatrix} 7&-11&7 \\\\ -3&8&-13\\\\ 6&1&10\\end{bmatrix}\n",
        "$$"
      ],
      "metadata": {
        "id": "Ic4LjwKL0lcs"
      }
    },
    {
      "cell_type": "code",
      "source": [
        "A = np.array([\n",
        "      [18,4,7],\n",
        "      [6,10,-1],\n",
        "      [-9,3,-11]\n",
        "])\n",
        "B = np.array([\n",
        "      [7,-11,7],\n",
        "      [-3,8,-13],\n",
        "      [6,1,10]\n",
        "])\n",
        "\n",
        "diff = np.subtract(A,B)\n",
        "prod = np.multiply(A,B)\n",
        "quot = A/B\n",
        "\n",
        "print(\"Difference:\")\n",
        "print(diff)\n",
        "print(\"Product:\")\n",
        "print(prod)\n",
        "print(\"Quotient:\")\n",
        "print(quot)"
      ],
      "metadata": {
        "colab": {
          "base_uri": "https://localhost:8080/"
        },
        "id": "dXKv1Suu0nVj",
        "outputId": "63e181b6-6171-4c5e-eaaf-77ac9c688152"
      },
      "execution_count": null,
      "outputs": [
        {
          "output_type": "stream",
          "name": "stdout",
          "text": [
            "Difference:\n",
            "[[ 11  15   0]\n",
            " [  9   2  12]\n",
            " [-15   2 -21]]\n",
            "Product:\n",
            "[[ 126  -44   49]\n",
            " [ -18   80   13]\n",
            " [ -54    3 -110]]\n",
            "Quotient:\n",
            "[[ 2.57142857 -0.36363636  1.        ]\n",
            " [-2.          1.25        0.07692308]\n",
            " [-1.5         3.         -1.1       ]]\n"
          ]
        }
      ]
    },
    {
      "cell_type": "markdown",
      "source": [
        "### Scaling"
      ],
      "metadata": {
        "id": "9oRXBjoL0qEN"
      }
    },
    {
      "cell_type": "markdown",
      "source": [
        "Scaling or scalar multiplication takes a scalar value and performs multiplication with a vector. Let's take the example below:"
      ],
      "metadata": {
        "id": "g4zZ2VdX0sIN"
      }
    },
    {
      "cell_type": "markdown",
      "source": [
        "$$S = 5 \\cdot A$$"
      ],
      "metadata": {
        "id": "eYZI2Hr-0uM0"
      }
    },
    {
      "cell_type": "markdown",
      "source": [
        "We can do this in numpy through:"
      ],
      "metadata": {
        "id": "w0Deq7Vb0xjr"
      }
    },
    {
      "cell_type": "code",
      "source": [
        "#S = 5 * A\n",
        "S = np.multiply(5,A)\n",
        "S"
      ],
      "metadata": {
        "colab": {
          "base_uri": "https://localhost:8080/"
        },
        "id": "DF9Ptkzr0zZy",
        "outputId": "cefd346a-6898-432c-c99a-e8f53eec1ebc"
      },
      "execution_count": null,
      "outputs": [
        {
          "output_type": "execute_result",
          "data": {
            "text/plain": [
              "array([[ 90,  20,  35],\n",
              "       [ 30,  50,  -5],\n",
              "       [-45,  15, -55]])"
            ]
          },
          "metadata": {},
          "execution_count": 10
        }
      ]
    },
    {
      "cell_type": "markdown",
      "source": [
        "Try to implement scaling with two vectors.\n"
      ],
      "metadata": {
        "id": "HusYONRE02mc"
      }
    },
    {
      "cell_type": "markdown",
      "source": [
        "$$ C = \\begin{bmatrix} 11 & 6\\\\ 8&10\\\\ -4&7\\end{bmatrix}  D = \\begin{bmatrix} 7&-10 \\\\ -3&3\\\\ 5&-1\\end{bmatrix}\n",
        "$$\n",
        "\n",
        "$$P = 8 \\ (C+D)$$"
      ],
      "metadata": {
        "id": "wkqN7BwE05Cs"
      }
    },
    {
      "cell_type": "code",
      "source": [
        "C = np.array([\n",
        "    [11,6],\n",
        "    [8,10],\n",
        "    [-4,7]\n",
        "])\n",
        "\n",
        "D = np.array([\n",
        "    [7,-10],\n",
        "    [-3,3],\n",
        "    [5,-1]\n",
        "])\n",
        "\n",
        "P = np.multiply(8,C+D)\n",
        "P"
      ],
      "metadata": {
        "colab": {
          "base_uri": "https://localhost:8080/"
        },
        "id": "HFWOW6T6073_",
        "outputId": "00b1f3f0-79c4-40a8-9f67-c37d2fbc5beb"
      },
      "execution_count": null,
      "outputs": [
        {
          "output_type": "execute_result",
          "data": {
            "text/plain": [
              "array([[144, -32],\n",
              "       [ 40, 104],\n",
              "       [  8,  48]])"
            ]
          },
          "metadata": {},
          "execution_count": 11
        }
      ]
    },
    {
      "cell_type": "markdown",
      "source": [
        "### MatPlotLib"
      ],
      "metadata": {
        "id": "cFNZP-1Z1XJW"
      }
    },
    {
      "cell_type": "markdown",
      "source": [
        "MatPlotLib or MATLab Plotting library is Python's take on MATLabs plotting feature. MatPlotLib can be used vastly from graping values to visualizing several dimensions of data."
      ],
      "metadata": {
        "id": "W6832eIF1Zzo"
      }
    },
    {
      "cell_type": "markdown",
      "source": [
        "#### Visualizing Data"
      ],
      "metadata": {
        "id": "5zFA9xd11cNP"
      }
    },
    {
      "cell_type": "markdown",
      "source": [
        "It's not enough just solving these vectors so might need to visualize them. So we'll use MatPlotLib for that. We'll need to import it first.\n"
      ],
      "metadata": {
        "id": "Q1bOY1Wd1d3y"
      }
    },
    {
      "cell_type": "code",
      "source": [
        "import matplotlib.pyplot as plt\n",
        "import matplotlib\n",
        "%matplotlib inline"
      ],
      "metadata": {
        "id": "nQ0JDaTB1fpt"
      },
      "execution_count": null,
      "outputs": []
    },
    {
      "cell_type": "code",
      "source": [
        "A = [8, -6]\n",
        "B = [3, -3] \n",
        "plt.scatter(A[0], A[1], label='A', c='green') #A[0] is Ax , A[1] is Ay , c=color\n",
        "plt.scatter(B[0], B[1], label='B', c='magenta')\n",
        "plt.grid()\n",
        "plt.legend()\n",
        "plt.show()"
      ],
      "metadata": {
        "colab": {
          "base_uri": "https://localhost:8080/",
          "height": 265
        },
        "id": "DoLZwIod1lMN",
        "outputId": "43d2e616-a53a-4c22-f85f-2e537e29d167"
      },
      "execution_count": null,
      "outputs": [
        {
          "output_type": "display_data",
          "data": {
            "text/plain": [
              "<Figure size 432x288 with 1 Axes>"
            ],
            "image/png": "[encoded data removed]"
          },
          "metadata": {
            "needs_background": "light"
          }
        }
      ]
    },
    {
      "cell_type": "code",
      "source": [
        "A = np.array([1, -1])\n",
        "B = np.array([1, 5])\n",
        "R = A + B\n",
        "Magnitude = np.sqrt(np.sum(R**2))\n",
        "plt.title(\"Resultant Vector\\nMagnitude:{}\" .format(Magnitude))\n",
        "plt.xlim(-5, 5) #limit of x\n",
        "plt.ylim(-5, 5) #limit of y\n",
        "plt.quiver(0, 0, A[0], A[1], angles='xy', scale_units='xy', scale=1, color='red')\n",
        "plt.quiver(A[0], A[1], B[0], B[1], angles='xy', scale_units='xy', scale=1, color='green')\n",
        "plt.quiver(0, 0, R[0], R[1], angles='xy', scale_units='xy', scale=1, color='black')\n",
        "plt.grid()\n",
        "plt.show()\n",
        "print(\"Resultant:\")\n",
        "print(R)\n",
        "print(\"Magnitude:\")\n",
        "print(Magnitude)\n",
        "Slope = R[1]/R[0]\n",
        "print(\"Slope:\")\n",
        "print(Slope)\n",
        "Angle = (np.arctan(Slope))*(180/np.pi)\n",
        "print(\"Angle:\")\n",
        "print(Angle)"
      ],
      "metadata": {
        "colab": {
          "base_uri": "https://localhost:8080/",
          "height": 444
        },
        "id": "rRAb8BRS1oy_",
        "outputId": "f72d60ce-4b2f-42a0-abef-8dd729605a4d"
      },
      "execution_count": null,
      "outputs": [
        {
          "output_type": "display_data",
          "data": {
            "text/plain": [
              "<Figure size 432x288 with 1 Axes>"
            ],
            "image/png": "[encoded data removed]"
          },
          "metadata": {
            "needs_background": "light"
          }
        },
        {
          "output_type": "stream",
          "name": "stdout",
          "text": [
            "Resultant:\n",
            "[2 4]\n",
            "Magnitude:\n",
            "4.47213595499958\n",
            "Slope:\n",
            "2.0\n",
            "Angle:\n",
            "63.43494882292201\n"
          ]
        }
      ]
    },
    {
      "cell_type": "code",
      "source": [
        "n = A.shape[0]\n",
        "plt.xlim(-10, 10)\n",
        "plt.ylim(-10, 10)\n",
        "plt.quiver(0,0, A[0], A[1], angles='xy', scale_units='xy',scale=1)\n",
        "plt.quiver(A[0],A[1], B[0], B[1], angles='xy', scale_units='xy',scale=1)\n",
        "plt.quiver(0,0, R[0], R[1], angles='xy', scale_units='xy',scale=1)\n",
        "plt.show()"
      ],
      "metadata": {
        "colab": {
          "base_uri": "https://localhost:8080/",
          "height": 269
        },
        "id": "YTQ0-sPE1s4F",
        "outputId": "f6ddc5e9-bca8-4576-f3ec-4aaae28f228c"
      },
      "execution_count": null,
      "outputs": [
        {
          "output_type": "display_data",
          "data": {
            "text/plain": [
              "<Figure size 432x288 with 1 Axes>"
            ],
            "image/png": "[encoded data removed]"
          },
          "metadata": {
            "needs_background": "light"
          }
        }
      ]
    },
    {
      "cell_type": "markdown",
      "source": [
        "Try plotting Three Vectors and show the Resultant Vector as a result.\n",
        "Use Head to Tail Method."
      ],
      "metadata": {
        "id": "qRqai4iE1wOu"
      }
    },
    {
      "cell_type": "markdown",
      "source": [
        "## 2 Vectors"
      ],
      "metadata": {
        "id": "aTJ_SER01ySb"
      }
    },
    {
      "cell_type": "code",
      "source": [
        "C = np.array([-5, -3])\n",
        "D = np.array([-4, 6])\n",
        "R = C + D\n",
        "Magnitude = np.sqrt(np.sum(R**2))\n",
        "plt.title(\"Resultant Vector\\nMagnitude:{}\" .format(Magnitude))\n",
        "plt.xlim(-10, 10) #limit of x\n",
        "plt.ylim(-10, 10) #limit of y\n",
        "plt.quiver(0, 0, C[0], C[1], angles='xy', scale_units='xy', scale=1, color='blue')\n",
        "plt.quiver(C[0], C[1], D[0], D[1], angles='xy', scale_units='xy', scale=1, color='orange')\n",
        "plt.quiver(0, 0, R[0], R[1], angles='xy', scale_units='xy', scale=1, color='brown')\n",
        "plt.grid()\n",
        "plt.show()\n",
        "print(\"Resultant:\")\n",
        "print(R)\n",
        "print(\"Magnitude:\")\n",
        "print(Magnitude)\n",
        "Slope = R[1]/R[0]\n",
        "print(\"Slope:\")\n",
        "print(Slope)\n",
        "Angle = (np.arctan(Slope))*(180/np.pi)\n",
        "print(\"Angle:\")\n",
        "print(Angle)"
      ],
      "metadata": {
        "colab": {
          "base_uri": "https://localhost:8080/",
          "height": 444
        },
        "id": "nRyxULiD1zrT",
        "outputId": "acd98283-ed19-44a3-f914-8b4d04ca7af9"
      },
      "execution_count": null,
      "outputs": [
        {
          "output_type": "display_data",
          "data": {
            "text/plain": [
              "<Figure size 432x288 with 1 Axes>"
            ],
            "image/png": "[encoded data removed]"
          },
          "metadata": {
            "needs_background": "light"
          }
        },
        {
          "output_type": "stream",
          "name": "stdout",
          "text": [
            "Resultant:\n",
            "[-9  3]\n",
            "Magnitude:\n",
            "9.486832980505138\n",
            "Slope:\n",
            "-0.3333333333333333\n",
            "Angle:\n",
            "-18.43494882292201\n"
          ]
        }
      ]
    },
    {
      "cell_type": "code",
      "source": [
        "E = np.array([8, 2])\n",
        "F = np.array([1, 9])\n",
        "R = E + F\n",
        "Magnitude = np.sqrt(np.sum(R**2))\n",
        "plt.title(\"Resultant Vector\\nMagnitude:{}\" .format(Magnitude))\n",
        "plt.xlim(-15, 15) #limit of x\n",
        "plt.ylim(-15, 15) #limit of y\n",
        "plt.quiver(0, 0, E[0], E[1], angles='xy', scale_units='xy', scale=1, color='red')\n",
        "plt.quiver(E[0], E[1], F[0], F[1], angles='xy', scale_units='xy', scale=1, color='blue')\n",
        "plt.quiver(0, 0, R[0], R[1], angles='xy', scale_units='xy', scale=1, color='green')\n",
        "plt.grid()\n",
        "plt.show()\n",
        "print(\"Resultant:\")\n",
        "print(R)\n",
        "print(\"Magnitude:\")\n",
        "print(Magnitude)\n",
        "Slope = R[1]/R[0]\n",
        "print(\"Slope:\")\n",
        "print(Slope)\n",
        "Angle = (np.arctan(Slope))*(180/np.pi)\n",
        "print(\"Angle:\")\n",
        "print(Angle)"
      ],
      "metadata": {
        "colab": {
          "base_uri": "https://localhost:8080/",
          "height": 444
        },
        "id": "jfzqa4nb11-r",
        "outputId": "94a311d4-fe42-49f2-87d9-164134f52f72"
      },
      "execution_count": null,
      "outputs": [
        {
          "output_type": "display_data",
          "data": {
            "text/plain": [
              "<Figure size 432x288 with 1 Axes>"
            ],
            "image/png": "[encoded data removed]"
          },
          "metadata": {
            "needs_background": "light"
          }
        },
        {
          "output_type": "stream",
          "name": "stdout",
          "text": [
            "Resultant:\n",
            "[ 9 11]\n",
            "Magnitude:\n",
            "14.212670403551895\n",
            "Slope:\n",
            "1.2222222222222223\n",
            "Angle:\n",
            "50.71059313749964\n"
          ]
        }
      ]
    },
    {
      "cell_type": "markdown",
      "source": [
        "## 3 Vectors"
      ],
      "metadata": {
        "id": "em9DWFi815CF"
      }
    },
    {
      "cell_type": "code",
      "source": [
        "A = np.array([-1, 9.1])\n",
        "B = np.array([-3, 2])\n",
        "C = np.array([-4, -11])\n",
        "R = A + B + C\n",
        "Magnitude = np.sqrt(np.sum(R**2))\n",
        "plt.title(\"Resultant Vector\\nMagnitude:{}\" .format(Magnitude))\n",
        "plt.xlim(-15, 16) #limit of x\n",
        "plt.ylim(-15, 16) #limit of y\n",
        "plt.quiver(0, 0, A[0], A[1], angles='xy', scale_units='xy', scale=1, color='black')\n",
        "plt.quiver(A[0], A[1], B[0], B[1], angles='xy', scale_units='xy', scale=1, color='purple')\n",
        "plt.quiver(-4, 11, C[0], C[1], angles='xy', scale_units='xy', scale=1, color='brown')\n",
        "plt.quiver(0, 0, R[0], R[1], angles='xy', scale_units='xy', scale=1, color='red')\n",
        "plt.grid()\n",
        "plt.show()\n",
        "print(\"Resultant:\")\n",
        "print(R)\n",
        "print(\"Magnitude:\")\n",
        "print(Magnitude)\n",
        "Slope = R[1]/R[0]\n",
        "print(\"Slope:\")\n",
        "print(Slope)\n",
        "Angle = (np.arctan(Slope))*(180/np.pi)\n",
        "print(\"Angle:\")\n",
        "print(Angle)"
      ],
      "metadata": {
        "colab": {
          "base_uri": "https://localhost:8080/",
          "height": 444
        },
        "id": "dVHtfo1Q16ZF",
        "outputId": "81d88f43-c2e8-470d-b433-1c200bf80a17"
      },
      "execution_count": null,
      "outputs": [
        {
          "output_type": "display_data",
          "data": {
            "text/plain": [
              "<Figure size 432x288 with 1 Axes>"
            ],
            "image/png": "[encoded data removed]"
          },
          "metadata": {
            "needs_background": "light"
          }
        },
        {
          "output_type": "stream",
          "name": "stdout",
          "text": [
            "Resultant:\n",
            "[-8.   0.1]\n",
            "Magnitude:\n",
            "8.000624975587845\n",
            "Slope:\n",
            "-0.012499999999999956\n",
            "Angle:\n",
            "-0.716159945470406\n"
          ]
        }
      ]
    }
  ]
}